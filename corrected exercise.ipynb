{
 "cells": [
  {
   "cell_type": "code",
   "execution_count": 2,
   "id": "5a90e5b7-7dff-4030-8779-47475c8b3ef1",
   "metadata": {},
   "outputs": [
    {
     "name": "stderr",
     "output_type": "stream",
     "text": [
      "<>:5: SyntaxWarning: invalid escape sequence '\\s'\n",
      "<>:5: SyntaxWarning: invalid escape sequence '\\s'\n",
      "C:\\Users\\michael\\AppData\\Local\\Temp\\ipykernel_2656\\3358670259.py:5: SyntaxWarning: invalid escape sequence '\\s'\n",
      "  raw_df = pd.read_csv(data_url, sep=\"\\s+\", skiprows=22, header=None)\n"
     ]
    }
   ],
   "source": [
    "import pandas as pd\n",
    "import numpy as np\n",
    "\n",
    "data_url = \"http://lib.stat.cmu.edu/datasets/boston\"\n",
    "raw_df = pd.read_csv(data_url, sep=\"\\s+\", skiprows=22, header=None)\n",
    "X = np.hstack([raw_df.values[::2, :], raw_df.values[1::2, :2]])\n",
    "y = raw_df.values[1::2, 2]"
   ]
  },
  {
   "cell_type": "code",
   "execution_count": 3,
   "id": "e098032f-697a-45bd-8a6e-54093f7e4b5f",
   "metadata": {},
   "outputs": [],
   "source": [
    "from sklearn.linear_model import LinearRegression\n",
    "from sklearn.metrics import mean_squared_error, r2_score\n",
    "from sklearn.model_selection import train_test_split"
   ]
  },
  {
   "cell_type": "code",
   "execution_count": 4,
   "id": "c219cd18-5ba9-4853-8a7a-76dd7f0dfc84",
   "metadata": {},
   "outputs": [],
   "source": [
    "multiple_linear_model=LinearRegression()"
   ]
  },
  {
   "cell_type": "code",
   "execution_count": 5,
   "id": "c73ff794-c756-447a-b761-1b54b8662a3b",
   "metadata": {},
   "outputs": [],
   "source": [
    "def get_linear_model(X,y):\n",
    "    ml_model =LinearRegression()\n",
    "    X_train,X_test,y_train,y_test=train_test_split(X,y)\n",
    "    ml_model.fit(X_train,y_train)\n",
    "    y_pred=ml_model.predict(X_test)\n",
    "    score = r2_score(y_test,y_pred)\n",
    "    mse=mean_squared_error(y_test,y_pred)\n",
    "    print(f\"Score: {score*100}\\nMSE: {mse}\")\n",
    "    print(ml_model.coef_)\n",
    "    print(ml_model.intercept_)"
   ]
  },
  {
   "cell_type": "code",
   "execution_count": 8,
   "id": "25cf07fe-87f1-4aa5-b09b-1075e715a2bb",
   "metadata": {},
   "outputs": [
    {
     "name": "stdout",
     "output_type": "stream",
     "text": [
      "Score: 22.97181406358669\n",
      "MSE: 68.96001237467058\n",
      "[-0.23710925  0.0713592  -0.39652387]\n",
      "27.05279534142163\n"
     ]
    }
   ],
   "source": [
    "X_crim_zn_indus=X[:,[0,1,2]]\n",
    "get_linear_model(X_crim_zn_indus,y)"
   ]
  },
  {
   "cell_type": "code",
   "execution_count": 9,
   "id": "2ffaefeb-17f9-4e14-a8cd-d0a238087cf0",
   "metadata": {},
   "outputs": [
    {
     "name": "stdout",
     "output_type": "stream",
     "text": [
      "Score: 33.33382471894608\n",
      "MSE: 50.034009036154536\n",
      "[-0.22453363  0.06088022 -0.42615034  6.53140286]\n",
      "26.926468734324672\n"
     ]
    }
   ],
   "source": [
    "X_crim_zn_indus_chas=X[:,[0,1,2,3]]\n",
    "get_linear_model(X_crim_zn_indus_chas,y)"
   ]
  },
  {
   "cell_type": "code",
   "execution_count": 10,
   "id": "0915ef5f-84d4-454c-abac-97c407c1ad2b",
   "metadata": {},
   "outputs": [
    {
     "name": "stdout",
     "output_type": "stream",
     "text": [
      "Score: 41.28552257698806\n",
      "MSE: 54.9046581050944\n",
      "[-0.19771389  0.0497411  -0.32384078  8.23059618 -5.65677722]\n",
      "28.724537521268044\n"
     ]
    }
   ],
   "source": [
    "X_crim_zn_indus_chas_nox=X[:,[0,1,2,3,4]]\n",
    "get_linear_model(X_crim_zn_indus_chas_nox,y)"
   ]
  },
  {
   "cell_type": "code",
   "execution_count": 11,
   "id": "d82885f3-401b-460e-90cc-8cb44f09be9c",
   "metadata": {},
   "outputs": [
    {
     "name": "stdout",
     "output_type": "stream",
     "text": [
      "Score: 48.03397771045182\n",
      "MSE: 58.85034006100712\n",
      "[-0.17162773  0.0164385  -0.19736733  2.48663207 -5.53203678  7.47438021]\n",
      "-19.041636722208736\n"
     ]
    }
   ],
   "source": [
    "X_crim_zn_indus_chas_nox_rm=X[:,[0,1,2,3,4,5]]\n",
    "get_linear_model(X_crim_zn_indus_chas_nox_rm,y)"
   ]
  },
  {
   "cell_type": "code",
   "execution_count": 12,
   "id": "999b7723-138f-418b-ac51-5cded4bf0090",
   "metadata": {},
   "outputs": [
    {
     "name": "stdout",
     "output_type": "stream",
     "text": [
      "Score: 56.18619582247977\n",
      "MSE: 36.930012554844\n",
      "[-0.1841983   0.01256167 -0.15237414  5.38536256 -1.84428474  7.56197065\n",
      " -0.02441272]\n",
      "-20.375467539242354\n"
     ]
    }
   ],
   "source": [
    "X_crim_zn_indus_chas_nox_rm_age=X[:,[0,1,2,3,4,5,6]]\n",
    "get_linear_model(X_crim_zn_indus_chas_nox_rm_age,y)"
   ]
  },
  {
   "cell_type": "code",
   "execution_count": 13,
   "id": "017e2a2a-4adf-4d29-bf23-de0a2611ca06",
   "metadata": {},
   "outputs": [
    {
     "name": "stdout",
     "output_type": "stream",
     "text": [
      "Score: 51.133444212298926\n",
      "MSE: 44.40770147024779\n",
      "[ -0.21510931   0.06275601  -0.25483251   3.94754823 -12.52801483\n",
      "   6.7443927   -0.06086073  -2.01646752]\n",
      "1.63845050490146\n"
     ]
    }
   ],
   "source": [
    "X_crim_zn_indus_chas_nox_rm_age_dis=X[:,[0,1,2,3,4,5,6,7]]\n",
    "get_linear_model(X_crim_zn_indus_chas_nox_rm_age_dis,y)"
   ]
  },
  {
   "cell_type": "code",
   "execution_count": 14,
   "id": "d155b575-3c4a-49aa-ad8e-46778c08e753",
   "metadata": {},
   "outputs": [
    {
     "name": "stdout",
     "output_type": "stream",
     "text": [
      "Score: 73.27717892612074\n",
      "MSE: 24.852237847344416\n",
      "[ -0.19716586   0.07196107  -0.13427939   5.30811452 -13.07001225\n",
      "   6.53469223  -0.05907521  -1.69105413  -0.06352431]\n",
      "0.853141028923627\n"
     ]
    }
   ],
   "source": [
    "X_crim_zn_indus_chas_nox_rm_age_dis_rad=X[:,[0,1,2,3,4,5,6,7,8,]]\n",
    "get_linear_model(X_crim_zn_indus_chas_nox_rm_age_dis_rad,y)"
   ]
  },
  {
   "cell_type": "code",
   "execution_count": 15,
   "id": "7b8d4358-6c84-43d3-88f2-930f80e707c7",
   "metadata": {},
   "outputs": [
    {
     "name": "stdout",
     "output_type": "stream",
     "text": [
      "Score: 55.84252245101333\n",
      "MSE: 39.79489398436814\n",
      "[-1.60824804e-01  6.97286692e-02 -9.61431909e-02  5.12163155e+00\n",
      " -1.40737183e+01  6.89635955e+00 -4.11542861e-02 -1.59864440e+00\n",
      "  1.40220795e-01 -1.39493246e-02]\n",
      "0.7268561773283295\n"
     ]
    }
   ],
   "source": [
    "X_crim_zn_indus_chas_nox_rm_age_dis_rad_tax=X[:,[0,1,2,3,4,5,6,7,8,9]]\n",
    "get_linear_model(X_crim_zn_indus_chas_nox_rm_age_dis_rad_tax,y)"
   ]
  },
  {
   "cell_type": "code",
   "execution_count": 16,
   "id": "23870075-c0e7-49a0-80c4-85b35490568c",
   "metadata": {},
   "outputs": [
    {
     "name": "stdout",
     "output_type": "stream",
     "text": [
      "Score: 69.17009380598755\n",
      "MSE: 23.427517840289397\n",
      "[-2.19841753e-01  4.77240308e-02 -7.17173268e-02  2.44242211e+00\n",
      " -2.45535114e+01  5.54485594e+00 -4.23375757e-02 -1.82305417e+00\n",
      "  3.16070231e-01 -1.36929388e-02 -1.07925520e+00]\n",
      "34.49362108178034\n"
     ]
    }
   ],
   "source": [
    "X_crim_zn_indus_chas_nox_rm_age_dis_rad_tax_pitratio=X[:,[0,1,2,3,4,5,6,7,8,9,10]]\n",
    "get_linear_model(X_crim_zn_indus_chas_nox_rm_age_dis_rad_tax_pitratio,y)"
   ]
  },
  {
   "cell_type": "code",
   "execution_count": 17,
   "id": "9aeb266f-9ea2-4a14-a6ab-ca406eecfb4c",
   "metadata": {},
   "outputs": [
    {
     "name": "stdout",
     "output_type": "stream",
     "text": [
      "Score: 63.638865319529515\n",
      "MSE: 29.43029391402437\n",
      "[-1.55957561e-01  3.51579666e-02 -1.26483712e-02  3.20376419e+00\n",
      " -2.40611354e+01  6.38896264e+00 -3.53966544e-02 -1.49455309e+00\n",
      "  2.99521776e-01 -1.23237417e-02 -1.00721673e+00  1.17362335e-02]\n",
      "20.591644135865398\n"
     ]
    }
   ],
   "source": [
    "X_crim_zn_indus_chas_nox_rm_age_dis_rad_tax_pitratio_b=X[:,[0,1,2,3,4,5,6,7,8,9,10,11]]\n",
    "get_linear_model(X_crim_zn_indus_chas_nox_rm_age_dis_rad_tax_pitratio_b,y)"
   ]
  },
  {
   "cell_type": "code",
   "execution_count": 18,
   "id": "73b4bd54-df95-4029-b66b-e75d8baee4bd",
   "metadata": {},
   "outputs": [
    {
     "name": "stdout",
     "output_type": "stream",
     "text": [
      "Score: 74.08154237898027\n",
      "MSE: 25.940577575936025\n",
      "[-1.14239119e-01  4.39984080e-02 -4.86192617e-02  3.00082398e+00\n",
      " -1.85266112e+01  3.16826373e+00  1.03549138e-02 -1.55726211e+00\n",
      "  2.83954081e-01 -9.55415855e-03 -9.07451125e-01  7.84121602e-03\n",
      " -5.81284132e-01]\n",
      "40.8374455243423\n"
     ]
    }
   ],
   "source": [
    "X_crim_zn_indus_chas_nox_rm_age_dis_rad_tax_pitratio_b_lstat=X[:,[0,1,2,3,4,5,6,7,8,9,10,11,12]]\n",
    "get_linear_model(X_crim_zn_indus_chas_nox_rm_age_dis_rad_tax_pitratio_b_lstat,y)"
   ]
  },
  {
   "cell_type": "code",
   "execution_count": null,
   "id": "0fbf5716-2f5e-4a26-a66f-01fb0b7e5983",
   "metadata": {},
   "outputs": [],
   "source": []
  }
 ],
 "metadata": {
  "kernelspec": {
   "display_name": "Python 3 (ipykernel)",
   "language": "python",
   "name": "python3"
  },
  "language_info": {
   "codemirror_mode": {
    "name": "ipython",
    "version": 3
   },
   "file_extension": ".py",
   "mimetype": "text/x-python",
   "name": "python",
   "nbconvert_exporter": "python",
   "pygments_lexer": "ipython3",
   "version": "3.12.7"
  }
 },
 "nbformat": 4,
 "nbformat_minor": 5
}
