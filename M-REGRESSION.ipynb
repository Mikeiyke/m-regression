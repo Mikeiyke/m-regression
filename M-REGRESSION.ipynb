{
 "cells": [
  {
   "cell_type": "code",
   "execution_count": 2,
   "id": "d67b1d1e-97f3-4077-954e-e596d970f26e",
   "metadata": {},
   "outputs": [
    {
     "name": "stderr",
     "output_type": "stream",
     "text": [
      "<>:5: SyntaxWarning: invalid escape sequence '\\s'\n",
      "<>:5: SyntaxWarning: invalid escape sequence '\\s'\n",
      "C:\\Users\\michael\\AppData\\Local\\Temp\\ipykernel_4108\\3358670259.py:5: SyntaxWarning: invalid escape sequence '\\s'\n",
      "  raw_df = pd.read_csv(data_url, sep=\"\\s+\", skiprows=22, header=None)\n"
     ]
    }
   ],
   "source": [
    "import pandas as pd\n",
    "import numpy as np\n",
    "\n",
    "data_url = \"http://lib.stat.cmu.edu/datasets/boston\"\n",
    "raw_df = pd.read_csv(data_url, sep=\"\\s+\", skiprows=22, header=None)\n",
    "X = np.hstack([raw_df.values[::2, :], raw_df.values[1::2, :2]])\n",
    "y = raw_df.values[1::2, 2]"
   ]
  },
  {
   "cell_type": "code",
   "execution_count": 3,
   "id": "a08c5d6c-f9c0-4103-9379-e81302866230",
   "metadata": {},
   "outputs": [],
   "source": [
    "from sklearn.linear_model import LinearRegression\n",
    "from sklearn.metrics import mean_squared_error, r2_score\n",
    "from sklearn.model_selection import train_test_split"
   ]
  },
  {
   "cell_type": "code",
   "execution_count": 5,
   "id": "182e682d-ba74-4022-99d3-72fb5f15de07",
   "metadata": {},
   "outputs": [],
   "source": [
    "multiple_linear_model=LinearRegression()"
   ]
  },
  {
   "cell_type": "code",
   "execution_count": 6,
   "id": "8668cda7-f4a9-4972-9691-437c7b09b8d5",
   "metadata": {},
   "outputs": [],
   "source": [
    "def get_linear_model(X,y):\n",
    "    ml_model =LinearRegression()\n",
    "    X_train,X_test,y_train,y_test=train_test_split(X,y)\n",
    "    ml_model.fit(X_train,y_train)\n",
    "    y_pred=ml_model.predict(X_test)\n",
    "    score = r2_score(y_test,y_pred)\n",
    "    mse=mean_squared_error(y_test,y_pred)\n",
    "    print(f\"Score: {score*100}\\nMSE: {mse}\")\n",
    "    print(ml_model.coef_)\n",
    "    print(ml_model.intercept_)"
   ]
  },
  {
   "cell_type": "code",
   "execution_count": 7,
   "id": "47ef5ad0-033c-4723-911c-9848db61feb0",
   "metadata": {},
   "outputs": [
    {
     "name": "stdout",
     "output_type": "stream",
     "text": [
      "Score: 68.8341375533377\n",
      "MSE: 26.947206940564847\n",
      "[-0.19302423  7.94047048 -0.11377562]\n",
      "-25.399210294585504\n"
     ]
    }
   ],
   "source": [
    "X_crim_rm_rad=X[:,[0,5,8]]\n",
    "get_linear_model(X_crim_rm_rad,y)"
   ]
  },
  {
   "cell_type": "code",
   "execution_count": 10,
   "id": "a4649967-08b7-4dba-825b-c07f2dbc578a",
   "metadata": {},
   "outputs": [
    {
     "name": "stdout",
     "output_type": "stream",
     "text": [
      "Score: 54.39384731631065\n",
      "MSE: 41.867967708945955\n",
      "[ 0.03002193 -0.94400655  3.71658928]\n",
      "31.916802174889817\n"
     ]
    }
   ],
   "source": [
    "X_zn_lstat_nox=X[:,[1,12,4]]\n",
    "get_linear_model(X_zn_lstat_nox,y)"
   ]
  },
  {
   "cell_type": "code",
   "execution_count": 13,
   "id": "2acc7e08-cc25-40df-9553-d672b1081bc0",
   "metadata": {},
   "outputs": [
    {
     "name": "stdout",
     "output_type": "stream",
     "text": [
      "Score: 26.079667126024297\n",
      "MSE: 71.65927080294162\n",
      "[-0.74018755 -0.82253562  0.01686136]\n",
      "27.65541489108763\n"
     ]
    }
   ],
   "source": [
    "X_indus_rad_b=X[:,[2,7,11]]\n",
    "get_linear_model(X_indus_rad_b,y)"
   ]
  },
  {
   "cell_type": "code",
   "execution_count": 14,
   "id": "03b2a65c-ee9f-431c-a94f-0fe65c890b38",
   "metadata": {},
   "outputs": [
    {
     "name": "stdout",
     "output_type": "stream",
     "text": [
      "Score: 60.50923918076262\n",
      "MSE: 33.077892186237136\n",
      "[-15.28474712   7.52089771  -1.06463912]\n",
      "3.552129621814931\n"
     ]
    }
   ],
   "source": [
    "X_nox_rm_ptratio=X[:,[4,5,10]]\n",
    "get_linear_model(X_nox_rm_ptratio,y)"
   ]
  },
  {
   "cell_type": "markdown",
   "id": "ac135b64-e7a7-4d0b-9fa5-a15ced30a34e",
   "metadata": {},
   "source": [
    "# loop"
   ]
  },
  {
   "cell_type": "code",
   "execution_count": 15,
   "id": "7fd99b40-af65-466c-9554-74404cf7595f",
   "metadata": {},
   "outputs": [],
   "source": [
    "feature_values=[X_crim_rm_rad,X_zn_lstat_nox,X_indus_rad_b,X_nox_rm_ptratio]"
   ]
  },
  {
   "cell_type": "code",
   "execution_count": 20,
   "id": "0164d24b-1f47-4165-8f95-a6bf12a59f6c",
   "metadata": {},
   "outputs": [
    {
     "name": "stdout",
     "output_type": "stream",
     "text": [
      "Score: 61.19165298957564\n",
      "MSE: 31.65599728925884\n",
      "[-0.18891056  8.12129152 -0.15242079]\n",
      "-26.065440558587298\n",
      "None\n",
      "Score: 45.02819489582291\n",
      "MSE: 47.98976759781244\n",
      "[ 0.03632361 -0.86600688 -1.56354946]\n",
      "33.65699630791327\n",
      "None\n",
      "Score: 26.64745422495446\n",
      "MSE: 53.10865388945584\n",
      "[-0.76945987 -0.91371544  0.02085207]\n",
      "27.10870559432942\n",
      "None\n",
      "Score: 65.06022075765725\n",
      "MSE: 32.01294830328296\n",
      "[-17.28903868   6.38326755  -1.2595002 ]\n",
      "15.074421984826284\n",
      "None\n"
     ]
    }
   ],
   "source": [
    "for i in range(len(feature_values)):\n",
    "    x=get_linear_model(feature_values[i],y)\n",
    "    print(x)"
   ]
  },
  {
   "cell_type": "code",
   "execution_count": null,
   "id": "1e1f71b4-debd-4981-a8d4-ca7d03b6eda4",
   "metadata": {},
   "outputs": [],
   "source": []
  }
 ],
 "metadata": {
  "kernelspec": {
   "display_name": "Python 3 (ipykernel)",
   "language": "python",
   "name": "python3"
  },
  "language_info": {
   "codemirror_mode": {
    "name": "ipython",
    "version": 3
   },
   "file_extension": ".py",
   "mimetype": "text/x-python",
   "name": "python",
   "nbconvert_exporter": "python",
   "pygments_lexer": "ipython3",
   "version": "3.12.7"
  }
 },
 "nbformat": 4,
 "nbformat_minor": 5
}
